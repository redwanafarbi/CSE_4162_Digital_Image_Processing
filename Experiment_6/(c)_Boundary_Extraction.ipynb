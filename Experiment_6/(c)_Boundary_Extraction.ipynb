{
 "cells": [
  {
   "cell_type": "code",
   "execution_count": 7,
   "id": "7ab2b0bb",
   "metadata": {},
   "outputs": [],
   "source": [
    "import matplotlib.pyplot as plt\n",
    "import numpy as np\n",
    "import cv2"
   ]
  },
  {
   "cell_type": "markdown",
   "id": "92ea3f71",
   "metadata": {},
   "source": [
    "# Function of Erosion Operation"
   ]
  },
  {
   "cell_type": "code",
   "execution_count": 8,
   "id": "497e0aaf",
   "metadata": {},
   "outputs": [],
   "source": [
    "def erosion(image, struct_element):\n",
    "    eroted_image = image.copy()\n",
    "    height, width = image.shape\n",
    "    struct_element = struct_element * 255\n",
    "    offset = struct_element.shape[0] // 2\n",
    "\n",
    "    for r in range(height):\n",
    "        for c in range(width):\n",
    "            fit = True\n",
    "            for x in range(-offset, offset+1):\n",
    "                for y in range(-offset, offset+1):\n",
    "                    sr = x+offset\n",
    "                    sc = y+offset\n",
    "                    if(r+x >= 0 and r+x < height and c+y >= 0 and c+y < width):\n",
    "                        if(struct_element[sr,sc] and image[r+x, c+y] != struct_element[sr,sc]):\n",
    "                            fit  = False\n",
    "                    elif(struct_element[sr,sc]):\n",
    "                        fit = False\n",
    "            \n",
    "            eroted_image[r,c] = 255 if fit else 0\n",
    "    \n",
    "\n",
    "    return np.uint8(eroted_image)                    "
   ]
  },
  {
   "cell_type": "markdown",
   "id": "00a5da73",
   "metadata": {},
   "source": [
    "# Boundary Extraction"
   ]
  },
  {
   "cell_type": "code",
   "execution_count": 9,
   "id": "e1a0435a",
   "metadata": {},
   "outputs": [],
   "source": [
    "def boundary_extraction(eroted_image, original_image):\n",
    "    return original_image - eroted_image"
   ]
  },
  {
   "cell_type": "markdown",
   "id": "34eefe3d",
   "metadata": {},
   "source": [
    "# Create Structuring Element"
   ]
  },
  {
   "cell_type": "code",
   "execution_count": 10,
   "id": "12ecd076",
   "metadata": {},
   "outputs": [],
   "source": [
    "struct_element_size = 3\n",
    "struct_element = np.ones((struct_element_size,struct_element_size))"
   ]
  },
  {
   "cell_type": "markdown",
   "id": "346f67a6",
   "metadata": {},
   "source": [
    "# Load Image"
   ]
  },
  {
   "cell_type": "code",
   "execution_count": 17,
   "id": "74d8eb21",
   "metadata": {},
   "outputs": [
    {
     "data": {
      "image/png": "[encoded data removed]",
      "text/plain": [
       "<Figure size 640x480 with 3 Axes>"
      ]
     },
     "metadata": {},
     "output_type": "display_data"
    }
   ],
   "source": [
    "image = cv2.imread('Lincoln.tif',cv2.IMREAD_GRAYSCALE)\n",
    "#image = cv2.resize(image, (512,512))\n",
    "\n",
    "eroted_image = erosion(image, struct_element)\n",
    "extracted_image = boundary_extraction(eroted_image, image)\n",
    "\n",
    "plt.Figure(figsize=(14,10))\n",
    "\n",
    "plt.subplot(1,3,1)\n",
    "plt.imshow(image, cmap='gray')\n",
    "plt.title('Original Image')\n",
    "\n",
    "plt.subplot(1,3,2)\n",
    "plt.imshow(eroted_image, cmap='gray')\n",
    "plt.title('Image After Erosion')\n",
    "\n",
    "plt.subplot(1,3,3)\n",
    "plt.imshow(extracted_image, cmap='gray')\n",
    "plt.title('Boundary Extraction')\n",
    "\n",
    "\n",
    "plt.subplots_adjust(wspace=1.5) \n",
    "\n",
    "\n",
    "plt.show()"
   ]
  }
 ],
 "metadata": {
  "kernelspec": {
   "display_name": "Python 3",
   "language": "python",
   "name": "python3"
  },
  "language_info": {
   "codemirror_mode": {
    "name": "ipython",
    "version": 3
   },
   "file_extension": ".py",
   "mimetype": "text/x-python",
   "name": "python",
   "nbconvert_exporter": "python",
   "pygments_lexer": "ipython3",
   "version": "3.12.0"
  }
 },
 "nbformat": 4,
 "nbformat_minor": 5
}
