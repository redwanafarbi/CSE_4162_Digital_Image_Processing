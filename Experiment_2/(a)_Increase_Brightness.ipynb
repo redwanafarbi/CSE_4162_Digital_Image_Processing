import matplotlib.pyplot as plt
import cv2
import numpy as np

# Take original image
image = cv2.imread("Fractured Spine.tif", cv2.IMREAD_GRAYSCALE)
image = cv2.resize(image,(512,512))

# Define gray levels for enhancement
low = 10
high = 50
brightness_increase = 100

# Enhance brightness for specific range
enhanced_image = image.copy()
mask = (image >= low) & (image <= high)
enhanced_image[mask] = np.clip(enhanced_image[mask]+brightness_increase, 0, 255)

# Display image
plt.figure(figsize=(12, 8))

plt.subplot(1, 2, 1)
plt.title("Original Image")
plt.imshow(image, cmap = 'gray')

plt.subplot(1, 2, 2)
plt.title("Brightness enhanced image")
plt.imshow(enhanced_image, cmap = 'gray')

plt.show()
